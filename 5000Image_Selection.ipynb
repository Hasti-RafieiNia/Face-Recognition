{
 "cells": [
  {
   "cell_type": "code",
   "execution_count": 4,
   "metadata": {},
   "outputs": [
    {
     "name": "stdout",
     "output_type": "stream",
     "text": [
      "Skipping file due to unexpected format: 39_1_20170116174525125.jpg\n",
      "Skipping file due to error: 53__0_20170116184028385.jpg - invalid literal for int() with base 10: ''\n",
      "Skipping file due to unexpected format: 61_1_20170109142408075.jpg\n",
      "Skipping file due to unexpected format: 61_3_20170109150557335.jpg\n",
      "Selected 5000 images and saved them to D:\\project\\Dataset\\Selected_UTK.\n"
     ]
    }
   ],
   "source": [
    "import os\n",
    "import random\n",
    "import shutil\n",
    "from collections import defaultdict\n",
    "\n",
    "# Path to the UTKFace dataset\n",
    "dataset_path = r\"D:\\project\\Dataset\\UTK\"\n",
    "# Path to save the selected images\n",
    "output_path = r\"D:\\project\\Dataset\\Selected_UTK\"\n",
    "\n",
    "# Create output directory if it doesn't exist\n",
    "os.makedirs(output_path, exist_ok=True)\n",
    "\n",
    "# Dictionary to hold images categorized by (age, gender, race)\n",
    "image_dict = defaultdict(list)\n",
    "\n",
    "# Load images and categorize them\n",
    "for filename in os.listdir(dataset_path):\n",
    "    if filename.endswith('.jpg'):\n",
    "        # Extract age, gender, and race from the filename\n",
    "        parts = filename.split('_')\n",
    "        \n",
    "        # Check if we have enough parts to unpack\n",
    "        if len(parts) < 4:\n",
    "            print(f\"Skipping file due to unexpected format: {filename}\")\n",
    "            continue\n",
    "        \n",
    "        try:\n",
    "            age = int(parts[0])\n",
    "            gender = int(parts[1])  # 0 for male, 1 for female\n",
    "            race = int(parts[2])     # 0-4 for different races\n",
    "\n",
    "            # Append the image path to the appropriate category\n",
    "            image_dict[(age, gender, race)].append(filename)\n",
    "        except ValueError as e:\n",
    "            print(f\"Skipping file due to error: {filename} - {e}\")\n",
    "\n",
    "# Total number of desired images\n",
    "total_images = 5000\n",
    "\n",
    "# List to hold selected images\n",
    "selected_images = []\n",
    "\n",
    "# Calculate how many images to sample from each category\n",
    "for key, images in image_dict.items():\n",
    "    if len(images) > 0:\n",
    "        selected_images.extend(images)  # Add all images from this category\n",
    "\n",
    "# If we have more than 5000 images, randomly select 5000\n",
    "if len(selected_images) > total_images:\n",
    "    selected_images = random.sample(selected_images, total_images)\n",
    "elif len(selected_images) < total_images:\n",
    "    # If we have less than 5000, we need to fill up by sampling from all available images again\n",
    "    remaining_needed = total_images - len(selected_images)\n",
    "    all_available_images = [img for sublist in image_dict.values() for img in sublist]\n",
    "    \n",
    "    if len(all_available_images) >= remaining_needed:\n",
    "        selected_images.extend(random.sample(all_available_images, remaining_needed))\n",
    "    else:\n",
    "        selected_images.extend(all_available_images)\n",
    "\n",
    "# Shuffle the selected images to ensure randomness\n",
    "random.shuffle(selected_images)\n",
    "\n",
    "# If we still have more than 5000 images, slice the list\n",
    "selected_images = selected_images[:total_images]\n",
    "\n",
    "# Copy selected images to the output directory\n",
    "for img in selected_images:\n",
    "    src_path = os.path.join(dataset_path, img)\n",
    "    dst_path = os.path.join(output_path, img)\n",
    "    shutil.copy(src_path, dst_path)\n",
    "\n",
    "print(f\"Selected {len(selected_images)} images and saved them to {output_path}.\")\n"
   ]
  }
 ],
 "metadata": {
  "kernelspec": {
   "display_name": "AI",
   "language": "python",
   "name": "python3"
  },
  "language_info": {
   "codemirror_mode": {
    "name": "ipython",
    "version": 3
   },
   "file_extension": ".py",
   "mimetype": "text/x-python",
   "name": "python",
   "nbconvert_exporter": "python",
   "pygments_lexer": "ipython3",
   "version": "3.12.4"
  }
 },
 "nbformat": 4,
 "nbformat_minor": 2
}
